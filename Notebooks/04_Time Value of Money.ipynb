{
 "cells": [
  {
   "cell_type": "code",
   "execution_count": 17,
   "metadata": {},
   "outputs": [
    {
     "data": {
      "application/vnd.jupyter.widget-view+json": {
       "model_id": "a877e83aacf1423190c2839ad121aec4",
       "version_major": 2,
       "version_minor": 0
      },
      "text/plain": [
       "interactive(children=(IntSlider(value=1300, description='Initial Investment ($)', max=2000, min=500, step=100)…"
      ]
     },
     "metadata": {},
     "output_type": "display_data"
    }
   ],
   "source": [
    "# Create interactive plot\n",
    "@interact\n",
    "def plot_present_future_values(initial_investment=initial_investment_slider, \n",
    "                               interest_rate=interest_rate_slider,\n",
    "                               n_years=n_years_slider):\n",
    "    future_values = [initial_investment * (1 + interest_rate) ** year for year in range(n_years + 1)]\n",
    "    present_values = [fv / (1 + interest_rate) ** year for year, fv in enumerate(future_values)]\n",
    "    \n",
    "    # Plotting\n",
    "    plt.figure(figsize=(10, 7))\n",
    "    plt.plot(range(n_years + 1), future_values, color=\"blue\", lw=2.5, label='Future Value')\n",
    "    plt.plot(range(n_years + 1), present_values, color=\"green\", lw=2.5, label='Present Value')\n",
    "    plt.xlabel(\"Years\", fontsize=14)\n",
    "    plt.ylabel(\"Value ($)\", fontsize=14)\n",
    "    plt.title(\"Present and Future Value Over Time\", fontsize=16, pad=20)\n",
    "    plt.legend(loc='upper left')\n",
    "    plt.grid(True)\n",
    "\n",
    "    # Set static axes\n",
    "    plt.xlim(0, 30)  # x-axis range from 0 to 30\n",
    "    plt.ylim(0, 25000)  # y-axis range from 0 to 25000\n",
    "\n",
    "    plt.show()\n"
   ]
  },
  {
   "cell_type": "markdown",
   "metadata": {},
   "source": [
    "The concept of present value (PV) and future value (FV) is central to finance. Given a specific interest rate (the discount rate), the PV and FV allow us to compare the value of money at different points in time.\n",
    "\n",
    "- **Future Value**: This is the value of a current asset at a specified date in the future based on an assumed rate of growth. If you have $1000 today and you can earn an interest rate of 8% per year, the future value of that $1000 in one year will be $1080.\n",
    "\n",
    "- **Present Value**: This is the current worth of a future sum of money given a specified rate of return. It provides a way to estimate the current value of money that you expect to receive in the future, considering the time value of money. If someone promises to give you $1080 one year from now and your discount rate is 8%, the present value of that money is $1000.\n",
    "\n",
    "The interactive plot allows you to adjust the initial investment, interest rate, and number of years. The blue line represents the future value of the investment, and the green line represents the present value of the future investment amounts, discounted back to the present at the specified interest rate. \n"
   ]
  },
  {
   "cell_type": "code",
   "execution_count": 18,
   "metadata": {},
   "outputs": [
    {
     "data": {
      "application/vnd.jupyter.widget-view+json": {
       "model_id": "833e424b19e64675a501c82a22375cb7",
       "version_major": 2,
       "version_minor": 0
      },
      "text/plain": [
       "interactive(children=(IntSlider(value=1300, description='Initial Investment ($)', max=2000, min=500, step=100)…"
      ]
     },
     "metadata": {},
     "output_type": "display_data"
    }
   ],
   "source": [
    "# Create interactive plot\n",
    "@interact\n",
    "def plot_discount_compound_values(initial_investment=initial_investment_slider, \n",
    "                                  interest_rate=interest_rate_slider,\n",
    "                                  n_years=n_years_slider):\n",
    "    compound_values = [initial_investment * (1 + interest_rate) ** year for year in range(n_years + 1)]\n",
    "    discount_values = [initial_investment / (1 + interest_rate) ** year for year in range(n_years + 1)]\n",
    "    \n",
    "    # Plotting\n",
    "    plt.figure(figsize=(10, 7))\n",
    "    plt.plot(range(n_years + 1), compound_values, color=\"blue\", lw=2.5, label='Compounding')\n",
    "    plt.plot(range(n_years + 1), discount_values, color=\"green\", lw=2.5, label='Discounting')\n",
    "    plt.xlabel(\"Years\", fontsize=14)\n",
    "    plt.ylabel(\"Value ($)\", fontsize=14)\n",
    "    plt.title(\"Compounding and Discounting Over Time\", fontsize=16, pad=20)\n",
    "    plt.legend(loc='upper left')\n",
    "    plt.grid(True)\n",
    "\n",
    "    # Set static axes\n",
    "    plt.xlim(0, 30)  # x-axis range from 0 to 30\n",
    "    plt.ylim(0, 25000)  # y-axis range from 0 to 25000\n",
    "\n",
    "    plt.show()\n"
   ]
  },
  {
   "cell_type": "markdown",
   "metadata": {},
   "source": [
    "- **Compounding**: This process calculates the amount of accumulated interest on an initial principal and reinvested interest from previous periods. It's about taking a present value amount, applying interest over time, and calculating the future value. The compounding line in the plot shows how an initial investment grows over time when interest is compounded at the specified rate.\n",
    "\n",
    "- **Discounting**: This is the process of determining the present value of a payment or a stream of payments that is to be received in the future. Given the time value of money, a dollar is worth more today than it would be worth tomorrow. Discounting is the reverse of compounding. The discounting line in the plot shows how the future value decreases over time when it's discounted back to the present at the specified rate.\n",
    "\n",
    "The plot allows you to adjust the initial investment, interest rate, and number of years. The blue line represents the value of the investment when compounding is applied, and the green line represents the value of the future investment amounts when discounting is applied.\n"
   ]
  },
  {
   "cell_type": "code",
   "execution_count": 19,
   "metadata": {},
   "outputs": [
    {
     "data": {
      "application/vnd.jupyter.widget-view+json": {
       "model_id": "7da7f18b593142d5972d9cd3770c64fc",
       "version_major": 2,
       "version_minor": 0
      },
      "text/plain": [
       "interactive(children=(IntSlider(value=140, description='Cash Flow ($)', max=200, min=50, step=10), FloatSlider…"
      ]
     },
     "metadata": {},
     "output_type": "display_data"
    }
   ],
   "source": [
    "# Create interactive plot\n",
    "@interact\n",
    "def plot_perpetuity_annuity_values(cash_flow=cash_flow_slider, \n",
    "                                   interest_rate=interest_rate_slider,\n",
    "                                   n_years=n_years_slider):\n",
    "    perpetuity_values = [cash_flow / interest_rate for _ in range(n_years + 1)]\n",
    "    annuity_values = [cash_flow * (1 - (1 + interest_rate) ** -year) / interest_rate for year in range(n_years + 1)]\n",
    "    \n",
    "    # Plotting\n",
    "    plt.figure(figsize=(10, 7))\n",
    "    plt.plot(range(n_years + 1), perpetuity_values, color=\"blue\", lw=2.5, label='Perpetuity')\n",
    "    plt.plot(range(n_years + 1), annuity_values, color=\"green\", lw=2.5, label='Annuity')\n",
    "    plt.xlabel(\"Years\", fontsize=14)\n",
    "    plt.ylabel(\"Present Value ($)\", fontsize=14)\n",
    "    plt.title(\"Perpetuity and Annuity Present Value Over Time\", fontsize=16, pad=20)\n",
    "    plt.legend(loc='upper left')\n",
    "    plt.grid(True)\n",
    "\n",
    "    # Set static axes\n",
    "    plt.xlim(0, 30)  # x-axis range from 0 to 30\n",
    "    plt.ylim(0, 5000)  # y-axis range from 0 to 5000\n",
    "\n",
    "    plt.show()\n"
   ]
  },
  {
   "cell_type": "markdown",
   "metadata": {},
   "source": [
    "- **Perpetuity**: This is an infinite series of cash flows of equal amount at regular intervals, without an end date. The present value of a perpetuity is calculated as the cash flow divided by the interest rate. The blue line in the plot represents the present value of a perpetuity, which remains constant over time as the cash flow continues indefinitely.\n",
    "\n",
    "- **Annuity**: This is a series of equal payments at regular intervals for a specified number of years. The present value of an annuity is calculated as the sum of the present values of all future cash flows. The green line in the plot represents the present value of an annuity, which increases over time as more cash flows are added, but at a decreasing rate due to discounting.\n",
    "\n",
    "The plot allows you to adjust the cash flow, interest rate, and number of years. The blue line represents the present value of a perpetuity, and the green line represents the present value of an annuity. \n",
    "\n",
    "In all of these visualizations, the x-axis represents the number of years, and the y-axis represents the value of the investment in dollars. The axes are static, which means that their ranges remain constant regardless of the values of the sliders. This allows for a consistent comparison when changing the parameters.\n"
   ]
  }
 ],
 "metadata": {
  "kernelspec": {
   "display_name": "Python 3",
   "language": "python",
   "name": "python3"
  },
  "language_info": {
   "codemirror_mode": {
    "name": "ipython",
    "version": 3
   },
   "file_extension": ".py",
   "mimetype": "text/x-python",
   "name": "python",
   "nbconvert_exporter": "python",
   "pygments_lexer": "ipython3",
   "version": "3.10.8"
  },
  "orig_nbformat": 4
 },
 "nbformat": 4,
 "nbformat_minor": 2
}
