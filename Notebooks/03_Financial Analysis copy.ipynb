{
 "cells": [
  {
   "cell_type": "markdown",
   "metadata": {},
   "source": [
    "## Financial Statements\n",
    "\n",
    "Financial statements are essential reports that provide insights into the financial performance and position of a business. There are three primary financial statements:\n",
    "\n",
    "### Balance Sheet: Assets, Liabilities, and Equity\n",
    "\n",
    "The **Balance Sheet** provides a snapshot of a company's financial position at a specific point in time. It consists of three main components:\n",
    "\n",
    "1. **Assets**: Assets represent the resources owned by the company, such as cash, inventory, property, and equipment.\n",
    "2. **Liabilities**: Liabilities are the obligations or debts owed by the company to creditors, such as loans, accounts payable, and accrued expenses.\n",
    "3. **Equity**: Equity represents the residual interest in the assets of the company after deducting liabilities. It includes contributed capital and retained earnings.\n",
    "\n",
    "The balance sheet equation is:\n",
    "\n"
   ]
  },
  {
   "cell_type": "markdown",
   "metadata": {},
   "source": [
    "Assets = Liabilities + Equity"
   ]
  },
  {
   "cell_type": "markdown",
   "metadata": {},
   "source": [
    "\n",
    "### Income Statement: Revenues, Expenses, Gains, and Losses\n",
    "\n",
    "The **Income Statement** (also known as the Profit and Loss Statement) provides information about a company's revenues, expenses, gains, and losses over a specific period. It helps assess the profitability of the business. The key components are:\n",
    "\n",
    "1. **Revenues**: Revenues are the inflows of assets resulting from the sale of goods or services.\n",
    "2. **Expenses**: Expenses are the outflows of assets incurred to generate revenues. Examples include salaries, rent, and utility expenses.\n",
    "3. **Gains**: Gains arise from transactions not directly related to the core business operations, such as the sale of assets.\n",
    "4. **Losses**: Losses occur when there are decreases in assets or increases in liabilities due to transactions or events.\n",
    "\n",
    "The income statement equation is:\n",
    "\n"
   ]
  },
  {
   "cell_type": "markdown",
   "metadata": {},
   "source": [
    "Net Income = Revenues - Expenses ± Gains - Losses"
   ]
  },
  {
   "cell_type": "markdown",
   "metadata": {},
   "source": [
    "\n",
    "### Cash Flow Statement: Operations, Investing, and Financing Activities\n",
    "\n",
    "The **Cash Flow Statement** provides information about the cash inflows and outflows from a company's operations, investing activities, and financing activities over a specific period. It helps assess the cash flow position and liquidity of the business. The main sections are:\n",
    "\n",
    "1. **Operating Activities**: These activities represent the cash flows from the company's core operations, such as cash received from customers and cash paid to suppliers.\n",
    "2. **Investing Activities**: These activities involve the purchase or sale of long-term assets, such as property, equipment, or investments.\n",
    "3. **Financing Activities**: These activities involve the issuance or repayment of debt, equity, or dividend payments.\n",
    "\n",
    "\n"
   ]
  },
  {
   "cell_type": "markdown",
   "metadata": {},
   "source": [
    "### The Relationship between the Financial Statements\n",
    "\n",
    "The three financial statements are interconnected, and their information is linked:\n",
    "\n",
    "- The net income from the income statement flows into the equity section of the balance sheet.\n",
    "- Changes in equity, such as additional investments or dividends, affect the balance sheet.\n",
    "- The net cash flow from the cash flow statement impacts the cash and cash equivalents on the balance sheet.\n",
    "\n",
    "The financial statements together provide a comprehensive overview of a company's financial performance, position, and cash flow, enabling stakeholders to make informed decisions.\n",
    "\n",
    "Please note that the equations mentioned above are written in plain text format to ensure compatibility with all Markdown viewers. You can copy and use them in your Markdown document. Let me know if there's anything else I can assist you with or if you'd like to further customize the content!"
   ]
  },
  {
   "cell_type": "code",
   "execution_count": 2,
   "metadata": {},
   "outputs": [],
   "source": [
    "import pandas as pd\n",
    "from ipywidgets import interact, IntSlider, FloatSlider\n",
    "from plotly.subplots import make_subplots\n",
    "import plotly.graph_objects as go\n",
    "\n",
    "# Create interactive slider widgets\n",
    "revenue_slider = IntSlider(value=5000, min=1000, max=10000, step=1000, description=\"Revenue\")\n",
    "cogs_slider = IntSlider(value=2000, min=500, max=5000, step=500, description=\"COGS\")\n",
    "expenses_slider = IntSlider(value=1000, min=500, max=5000, step=500, description=\"Expenses\")\n",
    "investments_slider = IntSlider(value=1000, min=500, max=5000, step=500, description=\"Investments\")\n",
    "dividends_slider = IntSlider(value=500, min=0, max=2000, step=500, description=\"Dividends\")\n",
    "\n",
    "@interact\n",
    "def financial_statements(revenue=revenue_slider, cogs=cogs_slider, expenses=expenses_slider,\n",
    "                         investments=investments_slider, dividends=dividends_slider):\n",
    "    # Income Statement\n",
    "    net_income = revenue - cogs - expenses\n",
    "    \n",
    "    # Balance Sheet\n",
    "    equity_beginning = 5000\n",
    "    equity_end = equity_beginning + investments - dividends + net_income\n",
    "    \n",
    "    # Cash Flow Statement\n",
    "    cash_flow_from_operations = net_income\n",
    "    cash_flow_from_investing = -investments\n",
    "    cash_flow_from_financing = investments - dividends\n",
    "    net_increase_in_cash = cash_flow_from_operations + cash_flow_from_investing + cash_flow_from_financing\n",
    "    cash_beginning = 1000\n",
    "    cash_end = cash_beginning + net_increase_in_cash\n",
    "    \n",
    "    # Display\n",
    "    income_statement = pd.DataFrame({\"Revenue\": [revenue], \"COGS\": [-cogs], \"Expenses\": [-expenses], \n",
    "                                     \"Net Income\": [net_income]})\n",
    "    balance_sheet = pd.DataFrame({\"Beginning Equity\": [equity_beginning], \"Investments\": [investments], \n",
    "                                  \"Dividends\": [-dividends], \"Net Income\": [net_income], \"Ending Equity\": [equity_end]})\n",
    "    cash_flow_statement = pd.DataFrame({\"Operating\": [cash_flow_from_operations], \"Investing\": [cash_flow_from_investing], \n",
    "                                        \"Financing\": [cash_flow_from_financing], \"Net Increase in Cash\": [net_increase_in_cash]})\n",
    "    \n",
    "    # Use plotly for interactive visualization\n",
    "    fig = make_subplots(rows=1, cols=3, subplot_titles=(\"Income Statement\", \"Balance Sheet\", \"Cash Flow Statement\"))\n",
    "    fig.add_trace(go.Bar(x=income_statement.columns, y=income_statement.values[0]), row=1, col=1)\n",
    "    fig.add_trace(go.Bar(x=balance_sheet.columns, y=balance_sheet.values[0]), row=1, col=2)\n",
    "    fig.add_trace(go.Bar(x=cash_flow_statement.columns, y=cash_flow_statement.values[0]), row=1, col=3)\n",
    "    fig.show()\n"
   ]
  },
  {
   "cell_type": "markdown",
   "metadata": {},
   "source": [
    "The three primary financial statements used in business and finance are the Income Statement, Balance Sheet, and Cash Flow Statement. Each statement provides a unique angle on a company's financial situation and performance, but they are interconnected:\n",
    "\n",
    "1. **Income Statement**: This statement shows the company's revenues and expenses, and the resulting net income or loss. The net income from the income statement flows into the equity section of the balance sheet.\n",
    "\n",
    "2. **Balance Sheet**: This statement provides a snapshot of a company's financial position at a specific point in time, detailing its assets, liabilities, and equity. Changes in equity, such as additional investments or dividends, affect the balance sheet.\n",
    "\n",
    "3. **Cash Flow Statement**: This statement shows the cash inflows and outflows from the company's operating, investing, and financing activities. The net cash flow impacts the cash and cash equivalents on the balance sheet.\n",
    "\n",
    "The interactive visualization allows you to adjust the company's revenue, cost of goods sold (COGS), operating expenses, investments, and dividends, and see how these adjustments affect the three financial statements.\n"
   ]
  }
 ],
 "metadata": {
  "kernelspec": {
   "display_name": "Python 3",
   "language": "python",
   "name": "python3"
  },
  "language_info": {
   "codemirror_mode": {
    "name": "ipython",
    "version": 3
   },
   "file_extension": ".py",
   "mimetype": "text/x-python",
   "name": "python",
   "nbconvert_exporter": "python",
   "pygments_lexer": "ipython3",
   "version": "3.10.8"
  },
  "orig_nbformat": 4
 },
 "nbformat": 4,
 "nbformat_minor": 2
}
