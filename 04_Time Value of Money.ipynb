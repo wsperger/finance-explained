{
 "cells": [
  {
   "cell_type": "code",
   "execution_count": 3,
   "metadata": {},
   "outputs": [],
   "source": [
    "import matplotlib.pyplot as plt\n",
    "import numpy as np\n",
    "from ipywidgets import interact, IntSlider, FloatSlider\n",
    "\n",
    "# Function to calculate Future Value\n",
    "def calculate_future_value(initial_investment, interest_rate, n_years):\n",
    "    future_value = initial_investment * (1 + interest_rate) ** n_years\n",
    "    return future_value\n",
    "\n",
    "# Create interactive slider widgets\n",
    "initial_investment_slider = IntSlider(value=5000, min=1000, max=10000, step=1000, description=\"Initial Investment\")\n",
    "interest_rate_slider = FloatSlider(value=0.08, min=0, max=0.15, step=0.01, description=\"Interest Rate\")\n",
    "n_years_slider = IntSlider(value=10, min=1, max=30, step=1, description=\"Number of Years\")\n",
    "\n",
    "# Create interactive plot\n",
    "@interact\n",
    "def plot_future_value(initial_investment=initial_investment_slider, interest_rate=interest_rate_slider, n_years=n_years_slider):\n",
    "    years = np.arange(1, n_years + 1)\n",
    "    future_values = calculate_future_value(initial_investment, interest_rate, years)\n",
    "\n",
    "    # Plotting\n",
    "    plt.figure(figsize=(8, 6))\n",
    "    plt.plot(years, future_values)\n",
    "    plt.xlabel(\"Years\")\n",
    "    plt.ylabel(\"Future Value\")\n",
    "    plt.title(\"Future Value Over Time\")\n",
    "    plt.grid(True)\n",
    "    plt.show()\n"
   ]
  }
 ],
 "metadata": {
  "kernelspec": {
   "display_name": "Python 3",
   "language": "python",
   "name": "python3"
  },
  "language_info": {
   "codemirror_mode": {
    "name": "ipython",
    "version": 3
   },
   "file_extension": ".py",
   "mimetype": "text/x-python",
   "name": "python",
   "nbconvert_exporter": "python",
   "pygments_lexer": "ipython3",
   "version": "3.10.8"
  },
  "orig_nbformat": 4
 },
 "nbformat": 4,
 "nbformat_minor": 2
}
